{
 "cells": [
  {
   "cell_type": "code",
   "execution_count": 6,
   "id": "38411f2f-0ab5-45e9-9ad6-de7be11dfade",
   "metadata": {},
   "outputs": [
    {
     "name": "stdout",
     "output_type": "stream",
     "text": [
      "Количество тренировочных данных: 8144\n",
      "Количество тестовых данных: 8041\n",
      "Используемое устройство: cpu\n",
      "\n",
      "Обучение с оптимизатором AdaBound:\n",
      "\n",
      "Начало эпохи 1/15\n"
     ]
    },
    {
     "name": "stderr",
     "output_type": "stream",
     "text": [
      "Эпоха 1/15: 100%|██████████████████████████████████████████████████████████████████████| 16/16 [12:45<00:00, 47.82s/it]\n"
     ]
    },
    {
     "name": "stdout",
     "output_type": "stream",
     "text": [
      "Эпоха 1/15 | Потери на обучении: 5.6807 | Точность на обучении: 0.20%\n",
      "\n",
      "Начало эпохи 2/15\n"
     ]
    },
    {
     "name": "stderr",
     "output_type": "stream",
     "text": [
      "Эпоха 2/15: 100%|██████████████████████████████████████████████████████████████████████| 16/16 [15:38<00:00, 58.66s/it]\n"
     ]
    },
    {
     "name": "stdout",
     "output_type": "stream",
     "text": [
      "Эпоха 2/15 | Потери на обучении: 5.1490 | Точность на обучении: 0.80%\n",
      "\n",
      "Начало эпохи 3/15\n"
     ]
    },
    {
     "name": "stderr",
     "output_type": "stream",
     "text": [
      "Эпоха 3/15: 100%|██████████████████████████████████████████████████████████████████████| 16/16 [15:11<00:00, 56.96s/it]\n"
     ]
    },
    {
     "name": "stdout",
     "output_type": "stream",
     "text": [
      "Эпоха 3/15 | Потери на обучении: 4.9532 | Точность на обучении: 3.40%\n",
      "\n",
      "Начало эпохи 4/15\n"
     ]
    },
    {
     "name": "stderr",
     "output_type": "stream",
     "text": [
      "Эпоха 4/15: 100%|██████████████████████████████████████████████████████████████████████| 16/16 [15:29<00:00, 58.10s/it]\n"
     ]
    },
    {
     "name": "stdout",
     "output_type": "stream",
     "text": [
      "Эпоха 4/15 | Потери на обучении: 4.7618 | Точность на обучении: 4.00%\n",
      "\n",
      "Начало эпохи 5/15\n"
     ]
    },
    {
     "name": "stderr",
     "output_type": "stream",
     "text": [
      "Эпоха 5/15: 100%|██████████████████████████████████████████████████████████████████████| 16/16 [14:59<00:00, 56.20s/it]\n"
     ]
    },
    {
     "name": "stdout",
     "output_type": "stream",
     "text": [
      "Эпоха 5/15 | Потери на обучении: 4.6099 | Точность на обучении: 5.40%\n",
      "\n",
      "Начало эпохи 6/15\n"
     ]
    },
    {
     "name": "stderr",
     "output_type": "stream",
     "text": [
      "Эпоха 6/15: 100%|██████████████████████████████████████████████████████████████████████| 16/16 [09:03<00:00, 33.99s/it]\n"
     ]
    },
    {
     "name": "stdout",
     "output_type": "stream",
     "text": [
      "Эпоха 6/15 | Потери на обучении: 4.3941 | Точность на обучении: 7.60%\n",
      "\n",
      "Начало эпохи 7/15\n"
     ]
    },
    {
     "name": "stderr",
     "output_type": "stream",
     "text": [
      "Эпоха 7/15: 100%|██████████████████████████████████████████████████████████████████████| 16/16 [08:39<00:00, 32.44s/it]\n"
     ]
    },
    {
     "name": "stdout",
     "output_type": "stream",
     "text": [
      "Эпоха 7/15 | Потери на обучении: 4.1128 | Точность на обучении: 10.60%\n",
      "\n",
      "Начало эпохи 8/15\n"
     ]
    },
    {
     "name": "stderr",
     "output_type": "stream",
     "text": [
      "Эпоха 8/15: 100%|██████████████████████████████████████████████████████████████████████| 16/16 [08:09<00:00, 30.61s/it]\n"
     ]
    },
    {
     "name": "stdout",
     "output_type": "stream",
     "text": [
      "Эпоха 8/15 | Потери на обучении: 3.8304 | Точность на обучении: 14.80%\n",
      "\n",
      "Начало эпохи 9/15\n"
     ]
    },
    {
     "name": "stderr",
     "output_type": "stream",
     "text": [
      "Эпоха 9/15: 100%|██████████████████████████████████████████████████████████████████████| 16/16 [08:02<00:00, 30.16s/it]\n"
     ]
    },
    {
     "name": "stdout",
     "output_type": "stream",
     "text": [
      "Эпоха 9/15 | Потери на обучении: 3.6113 | Точность на обучении: 18.20%\n",
      "\n",
      "Начало эпохи 10/15\n"
     ]
    },
    {
     "name": "stderr",
     "output_type": "stream",
     "text": [
      "Эпоха 10/15: 100%|█████████████████████████████████████████████████████████████████████| 16/16 [08:35<00:00, 32.20s/it]\n"
     ]
    },
    {
     "name": "stdout",
     "output_type": "stream",
     "text": [
      "Эпоха 10/15 | Потери на обучении: 3.2343 | Точность на обучении: 23.60%\n",
      "\n",
      "Начало эпохи 11/15\n"
     ]
    },
    {
     "name": "stderr",
     "output_type": "stream",
     "text": [
      "Эпоха 11/15: 100%|█████████████████████████████████████████████████████████████████████| 16/16 [08:29<00:00, 31.82s/it]\n"
     ]
    },
    {
     "name": "stdout",
     "output_type": "stream",
     "text": [
      "Эпоха 11/15 | Потери на обучении: 2.8507 | Точность на обучении: 32.20%\n",
      "\n",
      "Начало эпохи 12/15\n"
     ]
    },
    {
     "name": "stderr",
     "output_type": "stream",
     "text": [
      "Эпоха 12/15: 100%|█████████████████████████████████████████████████████████████████████| 16/16 [08:18<00:00, 31.16s/it]\n"
     ]
    },
    {
     "name": "stdout",
     "output_type": "stream",
     "text": [
      "Эпоха 12/15 | Потери на обучении: 2.4561 | Точность на обучении: 38.60%\n",
      "\n",
      "Начало эпохи 13/15\n"
     ]
    },
    {
     "name": "stderr",
     "output_type": "stream",
     "text": [
      "Эпоха 13/15: 100%|█████████████████████████████████████████████████████████████████████| 16/16 [09:39<00:00, 36.21s/it]\n"
     ]
    },
    {
     "name": "stdout",
     "output_type": "stream",
     "text": [
      "Эпоха 13/15 | Потери на обучении: 2.1023 | Точность на обучении: 48.60%\n",
      "\n",
      "Начало эпохи 14/15\n"
     ]
    },
    {
     "name": "stderr",
     "output_type": "stream",
     "text": [
      "Эпоха 14/15: 100%|█████████████████████████████████████████████████████████████████████| 16/16 [09:14<00:00, 34.65s/it]\n"
     ]
    },
    {
     "name": "stdout",
     "output_type": "stream",
     "text": [
      "Эпоха 14/15 | Потери на обучении: 1.7362 | Точность на обучении: 55.40%\n",
      "\n",
      "Начало эпохи 15/15\n"
     ]
    },
    {
     "name": "stderr",
     "output_type": "stream",
     "text": [
      "Эпоха 15/15: 100%|█████████████████████████████████████████████████████████████████████| 16/16 [08:51<00:00, 33.24s/it]\n"
     ]
    },
    {
     "name": "stdout",
     "output_type": "stream",
     "text": [
      "Эпоха 15/15 | Потери на обучении: 1.5104 | Точность на обучении: 61.20%\n",
      "Обучение завершено за 161.14 минут.\n",
      "\n",
      "Оценка модели после обучения с AdaBound:\n"
     ]
    },
    {
     "name": "stderr",
     "output_type": "stream",
     "text": [
      "Оценка на тестовом наборе: 100%|███████████████████████████████████████████████████████| 16/16 [01:55<00:00,  7.20s/it]\n"
     ]
    },
    {
     "name": "stdout",
     "output_type": "stream",
     "text": [
      "Тестовая точность AdaBound: 1.40%\n",
      "\n",
      "Обучение с оптимизатором Adam:\n",
      "\n",
      "Начало эпохи 1/15\n"
     ]
    },
    {
     "name": "stderr",
     "output_type": "stream",
     "text": [
      "Эпоха 1/15: 100%|██████████████████████████████████████████████████████████████████████| 16/16 [09:02<00:00, 33.89s/it]\n"
     ]
    },
    {
     "name": "stdout",
     "output_type": "stream",
     "text": [
      "Эпоха 1/15 | Потери на обучении: 5.6075 | Точность на обучении: 0.40%\n",
      "\n",
      "Начало эпохи 2/15\n"
     ]
    },
    {
     "name": "stderr",
     "output_type": "stream",
     "text": [
      "Эпоха 2/15: 100%|██████████████████████████████████████████████████████████████████████| 16/16 [09:02<00:00, 33.92s/it]\n"
     ]
    },
    {
     "name": "stdout",
     "output_type": "stream",
     "text": [
      "Эпоха 2/15 | Потери на обучении: 5.1633 | Точность на обучении: 1.20%\n",
      "\n",
      "Начало эпохи 3/15\n"
     ]
    },
    {
     "name": "stderr",
     "output_type": "stream",
     "text": [
      "Эпоха 3/15: 100%|██████████████████████████████████████████████████████████████████████| 16/16 [08:06<00:00, 30.39s/it]\n"
     ]
    },
    {
     "name": "stdout",
     "output_type": "stream",
     "text": [
      "Эпоха 3/15 | Потери на обучении: 5.0404 | Точность на обучении: 1.60%\n",
      "\n",
      "Начало эпохи 4/15\n"
     ]
    },
    {
     "name": "stderr",
     "output_type": "stream",
     "text": [
      "Эпоха 4/15: 100%|██████████████████████████████████████████████████████████████████████| 16/16 [08:24<00:00, 31.51s/it]\n"
     ]
    },
    {
     "name": "stdout",
     "output_type": "stream",
     "text": [
      "Эпоха 4/15 | Потери на обучении: 4.8502 | Точность на обучении: 1.80%\n",
      "\n",
      "Начало эпохи 5/15\n"
     ]
    },
    {
     "name": "stderr",
     "output_type": "stream",
     "text": [
      "Эпоха 5/15: 100%|██████████████████████████████████████████████████████████████████████| 16/16 [09:17<00:00, 34.82s/it]\n"
     ]
    },
    {
     "name": "stdout",
     "output_type": "stream",
     "text": [
      "Эпоха 5/15 | Потери на обучении: 4.6637 | Точность на обучении: 5.20%\n",
      "\n",
      "Начало эпохи 6/15\n"
     ]
    },
    {
     "name": "stderr",
     "output_type": "stream",
     "text": [
      "Эпоха 6/15: 100%|██████████████████████████████████████████████████████████████████████| 16/16 [08:35<00:00, 32.19s/it]\n"
     ]
    },
    {
     "name": "stdout",
     "output_type": "stream",
     "text": [
      "Эпоха 6/15 | Потери на обучении: 4.5561 | Точность на обучении: 5.40%\n",
      "\n",
      "Начало эпохи 7/15\n"
     ]
    },
    {
     "name": "stderr",
     "output_type": "stream",
     "text": [
      "Эпоха 7/15: 100%|██████████████████████████████████████████████████████████████████████| 16/16 [08:10<00:00, 30.68s/it]\n"
     ]
    },
    {
     "name": "stdout",
     "output_type": "stream",
     "text": [
      "Эпоха 7/15 | Потери на обучении: 4.2458 | Точность на обучении: 9.60%\n",
      "\n",
      "Начало эпохи 8/15\n"
     ]
    },
    {
     "name": "stderr",
     "output_type": "stream",
     "text": [
      "Эпоха 8/15: 100%|██████████████████████████████████████████████████████████████████████| 16/16 [08:09<00:00, 30.57s/it]\n"
     ]
    },
    {
     "name": "stdout",
     "output_type": "stream",
     "text": [
      "Эпоха 8/15 | Потери на обучении: 4.0305 | Точность на обучении: 12.40%\n",
      "\n",
      "Начало эпохи 9/15\n"
     ]
    },
    {
     "name": "stderr",
     "output_type": "stream",
     "text": [
      "Эпоха 9/15: 100%|██████████████████████████████████████████████████████████████████████| 16/16 [07:58<00:00, 29.91s/it]\n"
     ]
    },
    {
     "name": "stdout",
     "output_type": "stream",
     "text": [
      "Эпоха 9/15 | Потери на обучении: 3.6634 | Точность на обучении: 18.80%\n",
      "\n",
      "Начало эпохи 10/15\n"
     ]
    },
    {
     "name": "stderr",
     "output_type": "stream",
     "text": [
      "Эпоха 10/15: 100%|█████████████████████████████████████████████████████████████████████| 16/16 [08:01<00:00, 30.12s/it]\n"
     ]
    },
    {
     "name": "stdout",
     "output_type": "stream",
     "text": [
      "Эпоха 10/15 | Потери на обучении: 3.3590 | Точность на обучении: 21.80%\n",
      "\n",
      "Начало эпохи 11/15\n"
     ]
    },
    {
     "name": "stderr",
     "output_type": "stream",
     "text": [
      "Эпоха 11/15: 100%|█████████████████████████████████████████████████████████████████████| 16/16 [07:32<00:00, 28.26s/it]\n"
     ]
    },
    {
     "name": "stdout",
     "output_type": "stream",
     "text": [
      "Эпоха 11/15 | Потери на обучении: 2.9646 | Точность на обучении: 30.20%\n",
      "\n",
      "Начало эпохи 12/15\n"
     ]
    },
    {
     "name": "stderr",
     "output_type": "stream",
     "text": [
      "Эпоха 12/15: 100%|█████████████████████████████████████████████████████████████████████| 16/16 [08:43<00:00, 32.71s/it]\n"
     ]
    },
    {
     "name": "stdout",
     "output_type": "stream",
     "text": [
      "Эпоха 12/15 | Потери на обучении: 2.5829 | Точность на обучении: 39.80%\n",
      "\n",
      "Начало эпохи 13/15\n"
     ]
    },
    {
     "name": "stderr",
     "output_type": "stream",
     "text": [
      "Эпоха 13/15: 100%|█████████████████████████████████████████████████████████████████████| 16/16 [08:23<00:00, 31.44s/it]\n"
     ]
    },
    {
     "name": "stdout",
     "output_type": "stream",
     "text": [
      "Эпоха 13/15 | Потери на обучении: 2.1162 | Точность на обучении: 49.00%\n",
      "\n",
      "Начало эпохи 14/15\n"
     ]
    },
    {
     "name": "stderr",
     "output_type": "stream",
     "text": [
      "Эпоха 14/15: 100%|█████████████████████████████████████████████████████████████████████| 16/16 [09:23<00:00, 35.20s/it]\n"
     ]
    },
    {
     "name": "stdout",
     "output_type": "stream",
     "text": [
      "Эпоха 14/15 | Потери на обучении: 1.7201 | Точность на обучении: 58.40%\n",
      "\n",
      "Начало эпохи 15/15\n"
     ]
    },
    {
     "name": "stderr",
     "output_type": "stream",
     "text": [
      "Эпоха 15/15: 100%|█████████████████████████████████████████████████████████████████████| 16/16 [09:05<00:00, 34.10s/it]\n"
     ]
    },
    {
     "name": "stdout",
     "output_type": "stream",
     "text": [
      "Эпоха 15/15 | Потери на обучении: 1.3456 | Точность на обучении: 66.60%\n",
      "Обучение завершено за 127.93 минут.\n",
      "\n",
      "Оценка модели после обучения с Adam:\n"
     ]
    },
    {
     "name": "stderr",
     "output_type": "stream",
     "text": [
      "Оценка на тестовом наборе: 100%|███████████████████████████████████████████████████████| 16/16 [01:50<00:00,  6.91s/it]\n"
     ]
    },
    {
     "name": "stdout",
     "output_type": "stream",
     "text": [
      "Тестовая точность Adam: 1.40%\n"
     ]
    },
    {
     "data": {
      "image/png": "[encoded data removed]",
      "text/plain": [
       "<Figure size 1200x600 with 2 Axes>"
      ]
     },
     "metadata": {},
     "output_type": "display_data"
    }
   ],
   "source": [
    "import os\n",
    "import scipy.io\n",
    "import numpy as np\n",
    "from PIL import Image\n",
    "from torch.utils.data import Dataset, DataLoader\n",
    "import torchvision.transforms as transforms\n",
    "import torch\n",
    "import torch.nn as nn\n",
    "from adabound import AdaBound\n",
    "import time\n",
    "from tqdm import tqdm\n",
    "import matplotlib.pyplot as plt\n",
    "\n",
    "# Класс для загрузки данных\n",
    "class CarsDataset(Dataset):\n",
    "    def __init__(self, annos, img_dir, transform=None):\n",
    "        self.img_dir = img_dir\n",
    "        self.transform = transform\n",
    "        self.filenames = []\n",
    "        self.labels = []\n",
    "\n",
    "        for i in range(annos['annotations'].shape[1]):\n",
    "            annotation = annos['annotations'][0, i]\n",
    "            fname = annotation['fname'][0]\n",
    "            class_label = int(annotation['class'][0][0])\n",
    "\n",
    "            if isinstance(fname, bytes):\n",
    "                fname = fname.decode('utf-8')\n",
    "            elif isinstance(fname, np.ndarray):\n",
    "                fname = ''.join([chr(c) for c in fname])\n",
    "\n",
    "            if not fname.endswith('.jpg'):\n",
    "                fname += '.jpg'\n",
    "\n",
    "            img_path = os.path.join(img_dir, fname)\n",
    "            if os.path.exists(img_path):\n",
    "                self.filenames.append(fname)\n",
    "                self.labels.append(class_label)\n",
    "            else:\n",
    "                print(f\"Файл отсутствует: {img_path}\")\n",
    "\n",
    "    def __len__(self):\n",
    "        return len(self.filenames)\n",
    "\n",
    "    def __getitem__(self, idx):\n",
    "        img_path = os.path.join(self.img_dir, self.filenames[idx])\n",
    "        try:\n",
    "            image = Image.open(img_path).convert('RGB')\n",
    "        except Exception as e:\n",
    "            print(f\"Ошибка при загрузке изображения {img_path}: {e}\")\n",
    "            raise\n",
    "        label = self.labels[idx] - 1  # Метки начинаются с 0\n",
    "        if self.transform:\n",
    "            image = self.transform(image)\n",
    "        return image, label\n",
    "\n",
    "# Архитектура VGG16\n",
    "class VGG16Custom(nn.Module):\n",
    "    def __init__(self, num_classes=196):\n",
    "        super(VGG16Custom, self).__init__()\n",
    "        self.features = nn.Sequential(\n",
    "            # Блок 1\n",
    "            nn.Conv2d(3, 64, kernel_size=3, padding=1),\n",
    "            nn.BatchNorm2d(64),\n",
    "            nn.ReLU(inplace=True),\n",
    "            nn.Conv2d(64, 64, kernel_size=3, padding=1),\n",
    "            nn.BatchNorm2d(64),\n",
    "            nn.ReLU(inplace=True),\n",
    "            nn.MaxPool2d(kernel_size=2, stride=2),\n",
    "\n",
    "            # Блок 2\n",
    "            nn.Conv2d(64, 128, kernel_size=3, padding=1),\n",
    "            nn.BatchNorm2d(128),\n",
    "            nn.ReLU(inplace=True),\n",
    "            nn.Conv2d(128, 128, kernel_size=3, padding=1),\n",
    "            nn.BatchNorm2d(128),\n",
    "            nn.ReLU(inplace=True),\n",
    "            nn.MaxPool2d(kernel_size=2, stride=2),\n",
    "\n",
    "            # Блок 3\n",
    "            nn.Conv2d(128, 256, kernel_size=3, padding=1),\n",
    "            nn.BatchNorm2d(256),\n",
    "            nn.ReLU(inplace=True),\n",
    "            nn.Conv2d(256, 256, kernel_size=3, padding=1),\n",
    "            nn.BatchNorm2d(256),\n",
    "            nn.ReLU(inplace=True),\n",
    "            nn.Conv2d(256, 256, kernel_size=3, padding=1),\n",
    "            nn.BatchNorm2d(256),\n",
    "            nn.ReLU(inplace=True),\n",
    "            nn.MaxPool2d(kernel_size=2, stride=2),\n",
    "\n",
    "            # Блок 4\n",
    "            nn.Conv2d(256, 512, kernel_size=3, padding=1),\n",
    "            nn.BatchNorm2d(512),\n",
    "            nn.ReLU(inplace=True),\n",
    "            nn.Conv2d(512, 512, kernel_size=3, padding=1),\n",
    "            nn.BatchNorm2d(512),\n",
    "            nn.ReLU(inplace=True),\n",
    "            nn.Conv2d(512, 512, kernel_size=3, padding=1),\n",
    "            nn.BatchNorm2d(512),\n",
    "            nn.ReLU(inplace=True),\n",
    "            nn.MaxPool2d(kernel_size=2, stride=2),\n",
    "\n",
    "            # Блок 5\n",
    "            nn.Conv2d(512, 512, kernel_size=3, padding=1),\n",
    "            nn.BatchNorm2d(512),\n",
    "            nn.ReLU(inplace=True),\n",
    "            nn.Conv2d(512, 512, kernel_size=3, padding=1),\n",
    "            nn.BatchNorm2d(512),\n",
    "            nn.ReLU(inplace=True),\n",
    "            nn.Conv2d(512, 512, kernel_size=3, padding=1),\n",
    "            nn.BatchNorm2d(512),\n",
    "            nn.ReLU(inplace=True),\n",
    "            nn.MaxPool2d(kernel_size=2, stride=2),\n",
    "        )\n",
    "\n",
    "        self.classifier = nn.Sequential(\n",
    "            nn.Dropout(0.5),\n",
    "            nn.Linear(512 * 7 * 7, 4096),\n",
    "            nn.ReLU(inplace=True),\n",
    "            nn.Dropout(0.5),\n",
    "            nn.Linear(4096, 4096),\n",
    "            nn.ReLU(inplace=True),\n",
    "            nn.Linear(4096, num_classes),\n",
    "        )\n",
    "\n",
    "    def forward(self, x):\n",
    "        x = self.features(x)\n",
    "        x = torch.flatten(x, 1)\n",
    "        x = self.classifier(x)\n",
    "        return x\n",
    "\n",
    "# Функция для оценки модели\n",
    "def evaluate_model(model, test_loader, criterion, device):\n",
    "    model.eval()\n",
    "    running_loss = 0.0\n",
    "    correct = 0\n",
    "    total = 0\n",
    "\n",
    "    with torch.no_grad():\n",
    "        for inputs, labels in tqdm(test_loader, desc=\"Оценка на тестовом наборе\"):\n",
    "            inputs = inputs.to(device)\n",
    "            labels = labels.to(device)\n",
    "\n",
    "            outputs = model(inputs)\n",
    "            loss = criterion(outputs, labels)\n",
    "            running_loss += loss.item() * inputs.size(0)\n",
    "\n",
    "            _, preds = torch.max(outputs, 1)\n",
    "            correct += (preds == labels).sum().item()\n",
    "            total += labels.size(0)\n",
    "\n",
    "    epoch_test_loss = running_loss / len(test_loader.dataset)\n",
    "    epoch_acc = 100 * correct / total\n",
    "    return epoch_test_loss, epoch_acc\n",
    "\n",
    "# Функция для обучения модели\n",
    "def train_model(model, optimizer, train_loader, criterion, device, num_epochs=15):\n",
    "    train_losses = []\n",
    "    train_accuracies = []\n",
    "    start_time = time.time()\n",
    "\n",
    "    for epoch in range(num_epochs):\n",
    "        print(f\"\\nНачало эпохи {epoch + 1}/{num_epochs}\")\n",
    "        model.train()\n",
    "        running_loss = 0.0\n",
    "        correct = 0\n",
    "        total = 0\n",
    "\n",
    "        for inputs, labels in tqdm(train_loader, desc=f\"Эпоха {epoch+1}/{num_epochs}\"):\n",
    "            inputs = inputs.to(device)\n",
    "            labels = labels.to(device)\n",
    "\n",
    "            optimizer.zero_grad()\n",
    "\n",
    "            outputs = model(inputs)\n",
    "            loss = criterion(outputs, labels)\n",
    "            loss.backward()\n",
    "            optimizer.step()\n",
    "\n",
    "            running_loss += loss.item() * inputs.size(0)\n",
    "            _, predicted = torch.max(outputs, 1)\n",
    "            total += labels.size(0)\n",
    "            correct += (predicted == labels).sum().item()\n",
    "\n",
    "        epoch_loss = running_loss / len(train_loader.dataset)\n",
    "        epoch_accuracy = 100 * correct / total\n",
    "        train_losses.append(epoch_loss)\n",
    "        train_accuracies.append(epoch_accuracy)\n",
    "        print(f\"Эпоха {epoch+1}/{num_epochs} | Потери на обучении: {epoch_loss:.4f} | Точность на обучении: {epoch_accuracy:.2f}%\")\n",
    "\n",
    "    total_time = time.time() - start_time\n",
    "    print(f\"Обучение завершено за {total_time/60:.2f} минут.\")\n",
    "    return train_losses, train_accuracies, total_time\n",
    "\n",
    "# Основной блок\n",
    "if __name__ == \"__main__\":\n",
    "    # Пути к данным\n",
    "    train_dir = 'C:\\\\Users\\\\latip\\\\OneDrive\\\\Рабочий стол\\\\Учеба\\\\4КС1\\\\ИИ\\\\Лаба1\\\\cars_train\\\\cars_train'\n",
    "    test_dir = 'C:\\\\Users\\\\latip\\\\OneDrive\\\\Рабочий стол\\\\Учеба\\\\4КС1\\\\ИИ\\\\Лаба1\\\\cars_test\\\\cars_test'\n",
    "\n",
    "    # Загрузка аннотаций\n",
    "    train_annos = scipy.io.loadmat('C:\\\\Users\\\\latip\\\\OneDrive\\\\Рабочий стол\\\\Учеба\\\\4КС1\\\\ИИ\\\\Лаба1\\\\ДатаСет\\\\cars_train_annos.mat')\n",
    "    test_annos = scipy.io.loadmat('C:\\\\Users\\\\latip\\\\OneDrive\\\\Рабочий стол\\\\Учеба\\\\4КС1\\\\ИИ\\\\Лаба1\\\\ДатаСет\\\\cars_test_annos_withlabels_eval.mat')\n",
    "    meta = scipy.io.loadmat('C:\\\\Users\\\\latip\\\\OneDrive\\\\Рабочий стол\\\\Учеба\\\\4КС1\\\\ИИ\\\\Лаба1\\\\ДатаСет\\\\cars_meta.mat')\n",
    "\n",
    "    # Получение меток классов\n",
    "    class_names = [name[0] for name in meta['class_names'][0]]\n",
    "    num_classes = len(class_names)\n",
    "\n",
    "    # Преобразования для изображений\n",
    "    transform = transforms.Compose([\n",
    "        transforms.Resize((224, 224)),  # Изменение размера изображений\n",
    "        transforms.ToTensor(),\n",
    "        transforms.Normalize(mean=[0.485, 0.456, 0.406], std=[0.229, 0.224, 0.225]),\n",
    "    ])\n",
    "\n",
    "    # Создание датасетов\n",
    "    train_dataset = CarsDataset(train_annos, train_dir, transform=transform)\n",
    "    test_dataset = CarsDataset(test_annos, test_dir, transform=transform)\n",
    "\n",
    "    # Подмножества для ускорения тестирования\n",
    "    train_subset = torch.utils.data.Subset(train_dataset, list(range(500)))\n",
    "    test_subset = torch.utils.data.Subset(test_dataset, list(range(500)))\n",
    "\n",
    "    print(f\"Количество тренировочных данных: {len(train_dataset)}\")\n",
    "    print(f\"Количество тестовых данных: {len(test_dataset)}\")\n",
    "\n",
    "    # Создание DataLoader\n",
    "    train_loader = DataLoader(train_subset, batch_size=32, shuffle=True, num_workers=0, pin_memory=torch.cuda.is_available())\n",
    "    test_loader = DataLoader(test_subset, batch_size=32, shuffle=False, num_workers=0, pin_memory=torch.cuda.is_available())\n",
    "\n",
    "    # Создание модели\n",
    "    model = VGG16Custom(num_classes=num_classes)\n",
    "\n",
    "    # Определение устройства (GPU или CPU)\n",
    "    device = torch.device(\"cuda\" if torch.cuda.is_available() else \"cpu\")\n",
    "    model.to(device)\n",
    "    print(f\"Используемое устройство: {device}\")\n",
    "\n",
    "    # Параметры оптимизатора\n",
    "    learning_rate = 1e-4\n",
    "    weight_decay = 5e-4\n",
    "\n",
    "    # Обучение с AdaBound\n",
    "    optimizer_adabound = AdaBound(model.parameters(), lr=learning_rate, final_lr=0.1, weight_decay=weight_decay)\n",
    "    criterion = nn.CrossEntropyLoss()\n",
    "\n",
    "    num_epochs = 15\n",
    "    print(\"\\nОбучение с оптимизатором AdaBound:\")\n",
    "    train_losses_adabound, train_accuracies_adabound, time_adabound = train_model(\n",
    "        model, optimizer_adabound, train_loader, criterion, device, num_epochs=num_epochs\n",
    "    )\n",
    "\n",
    "    # Оценка модели после обучения с AdaBound\n",
    "    print(\"\\nОценка модели после обучения с AdaBound:\")\n",
    "    test_loss_adabound, test_acc_adabound = evaluate_model(model, test_loader, criterion, device)\n",
    "    print(f\"Тестовая точность AdaBound: {test_acc_adabound:.2f}%\")\n",
    "\n",
    "    # Сброс модели для обучения с Adam\n",
    "    model = VGG16Custom(num_classes).to(device)\n",
    "\n",
    "    # Обучение с Adam\n",
    "    optimizer_adam = torch.optim.Adam(model.parameters(), lr=learning_rate, weight_decay=weight_decay)\n",
    "    print(\"\\nОбучение с оптимизатором Adam:\")\n",
    "    train_losses_adam, train_accuracies_adam, time_adam = train_model(\n",
    "        model, optimizer_adam, train_loader, criterion, device, num_epochs=num_epochs\n",
    "    )\n",
    "\n",
    "    # Оценка модели после обучения с Adam\n",
    "    print(\"\\nОценка модели после обучения с Adam:\")\n",
    "    test_loss_adam, test_acc_adam = evaluate_model(model, test_loader, criterion, device)\n",
    "    print(f\"Тестовая точность Adam: {test_acc_adam:.2f}%\")\n",
    "\n",
    "    # Сравнение результатов\n",
    "    optimizers = ['AdaBound', 'Adam']\n",
    "    test_accuracies = [test_acc_adabound, test_acc_adam]\n",
    "    training_times = [time_adabound, time_adam]\n",
    "\n",
    "    plt.figure(figsize=(12, 6))\n",
    "\n",
    "    # График точности\n",
    "    plt.subplot(1, 2, 1)\n",
    "    bars = plt.bar(optimizers, test_accuracies, color=['blue', 'orange'])\n",
    "    plt.xlabel('Оптимизатор')\n",
    "    plt.ylabel('Тестовая точность (%)')\n",
    "    plt.title('Сравнение тестовой точности оптимизаторов')\n",
    "    plt.ylim(0, 100)\n",
    "    for bar in bars:\n",
    "        height = bar.get_height()\n",
    "        plt.text(bar.get_x() + bar.get_width()/2, height + 1, f'{height:.2f}%', ha='center', va='bottom')\n",
    "\n",
    "    # График времени обучения\n",
    "    plt.subplot(1, 2, 2)\n",
    "    bars = plt.bar(optimizers, training_times, color=['blue', 'orange'])\n",
    "    plt.xlabel('Оптимизатор')\n",
    "    plt.ylabel('Время обучения (сек)')\n",
    "    plt.title('Сравнение времени обучения')\n",
    "    for bar in bars:\n",
    "        height = bar.get_height()\n",
    "        plt.text(bar.get_x() + bar.get_width()/2, height + 1, f'{height:.2f} сек', ha='center', va='bottom')\n",
    "\n",
    "    plt.tight_layout()\n",
    "    plt.show()"
   ]
  },
  {
   "cell_type": "code",
   "execution_count": null,
   "id": "fc40320b-3722-4ef2-8cf0-c29427d7cc52",
   "metadata": {},
   "outputs": [],
   "source": []
  }
 ],
 "metadata": {
  "kernelspec": {
   "display_name": "Python 3 (ipykernel)",
   "language": "python",
   "name": "python3"
  },
  "language_info": {
   "codemirror_mode": {
    "name": "ipython",
    "version": 3
   },
   "file_extension": ".py",
   "mimetype": "text/x-python",
   "name": "python",
   "nbconvert_exporter": "python",
   "pygments_lexer": "ipython3",
   "version": "3.12.7"
  }
 },
 "nbformat": 4,
 "nbformat_minor": 5
}
